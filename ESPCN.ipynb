{
 "cells": [
  {
   "cell_type": "markdown",
   "metadata": {},
   "source": [
    ">### 어떻게 진행할 것인가\n",
    "- DIV2k Dataset + 10000개의 초음파 이미지\n"
   ]
  },
  {
   "cell_type": "markdown",
   "metadata": {},
   "source": [
    ">### 1. Ready to depandacy "
   ]
  },
  {
   "cell_type": "code",
   "execution_count": 1,
   "metadata": {},
   "outputs": [],
   "source": [
    "import os\n",
    "import math\n",
    "import numpy as np\n",
    "import tensorflow as tf\n",
    "import tensorflow_datasets as tfds\n",
    "import matplotlib.pyplot as plt   \n",
    "\n",
    "from tensorflow import keras\n",
    "from tensorflow.keras import layers\n",
    "from tensorflow.keras.preprocessing import image_dataset_from_directory\n",
    "from IPython.display import display\n",
    "\n",
    "AUTOTUNE = tf.data.AUTOTUNE"
   ]
  },
  {
   "cell_type": "markdown",
   "metadata": {},
   "source": [
    ">### 2. Download the training dataset\n",
    "- 1. DIV2K 데이터셋을 사용(tensorflow_dataset)\n",
    "- 2. 1000개의 초고해상도 이미지와 저해상도의 이미지를 준비\n",
    "    - 훈련용: 800 개\n",
    "    - 검증용: 100 개\n",
    "    - 테스트용: 100 개\n",
    "- 3. bicubic image(4x)와 low quality image의 비교를 통한 모델 설정"
   ]
  },
  {
   "cell_type": "code",
   "execution_count": 2,
   "metadata": {},
   "outputs": [],
   "source": [
    "## 4배 고해상도 이미지 준비\n",
    "train, valid = tfds.load(\n",
    "    \"div2k/bicubic_x4\",\n",
    "    split=['train', 'validation'],\n",
    "    as_supervised=True\n",
    ")"
   ]
  },
  {
   "cell_type": "code",
   "execution_count": 5,
   "metadata": {},
   "outputs": [],
   "source": [
    "root_dir = r\"D:\\PycharmProjects\\IQ_improvement\\image_files\"\n",
    "\n",
    "file_paths = [os.path.join(root_dir, file) \n",
    "              for file in os.listdir(root_dir) if file.endswith('.JPEG')]\n",
    "\n",
    "# 데이터셋 생성\n",
    "dataset = tf.data.Dataset.from_tensor_slices(file_paths)"
   ]
  }
 ],
 "metadata": {
  "kernelspec": {
   "display_name": "Python 3",
   "language": "python",
   "name": "python3"
  },
  "language_info": {
   "codemirror_mode": {
    "name": "ipython",
    "version": 3
   },
   "file_extension": ".py",
   "mimetype": "text/x-python",
   "name": "python",
   "nbconvert_exporter": "python",
   "pygments_lexer": "ipython3",
   "version": "3.10.10"
  }
 },
 "nbformat": 4,
 "nbformat_minor": 2
}
