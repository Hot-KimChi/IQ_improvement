{
 "cells": [
  {
   "cell_type": "markdown",
   "metadata": {},
   "source": [
    "###  해당 커널은 다음과 같은 프로세스로 진행\n",
    "\n",
    "1. 데이터 셋 확인\n",
    "    * 데이터가 어떻게 구성되어 있는지 확인\n",
    "        - ghkddlstjq\n",
    "                \n",
    "    * 대부분의 캐글 데이터들은 잘 정제되어 있지만 실제 데이터는 아닐 가능성이 농후\n",
    "      \n",
    "    **`하지만 가끔 null data`** 가 존재합니다. 이를 확인하고, 향후 수정\n",
    "2. **`탐색적 데이터 분석`** (EDA, Exploratory Data Analysis)\n",
    "    * 여러 feature 들을 개별적으로 분석하고, feature 들 간의 상관관계를 확인\n",
    "      \n",
    "    여러 시각화 툴을 사용하여 insight를 획득\n",
    "3. **`특성 공학 (Feature Engineering)`**\n",
    "    * 모델을 세우기에 앞서, 모델의 성능을 높일 수 있도록 feature 들을 engineering 한다.\n",
    "      \n",
    "    one-hot encoding, class로 나누기, 구간으로 나누기, 텍스트 데이터 처리\n",
    "4. 모델 개발 및 학습\n",
    "    * sklearn, keras 을 사용해 모델을 만든다.\n",
    "    * 파이썬에서 머신러닝을 할 때는 sklearn 을 사용하면 수많은 알고리즘을 일관된 문법으로 사용 가능\n",
    "    * 또 keras는 딥러닝 개발할 때 모델에 집중할 수 있도록 도움.\n",
    "    * 물론 딥러닝을 위해 tensorflow, pytorch 등을 사용 가능.\n",
    "5. 모델 예측 및 평가\n",
    "    * Train set 을 가지고 모델을 학습시킨 후, Test set 을 가지고 prediction 진행.\n",
    "   \n",
    "    그리고 예측 성능이 원하는 수준인지 판단 / 풀려는 문제에 따라 모델을 평가하는 방식도 달라진다."
   ]
  },
  {
   "cell_type": "code",
   "execution_count": 5,
   "metadata": {},
   "outputs": [],
   "source": [
    "import numpy as np\n",
    "from scipy.stats import norm\n",
    "from scipy import stats\n",
    "import pandas as pd\n",
    "import matplotlib.pyplot as plt\n",
    "import seaborn as sns\n",
    "import pymssql\n",
    "import os\n",
    "import joblib\n",
    "import configparser\n",
    "\n",
    "\n",
    "## ignore warnings\n",
    "import warnings\n",
    "warnings.filterwarnings('ignore')\n",
    "\n",
    "## matplotlib 의 기본 scheme 말고 seaborn scheme 을 세팅하고, \n",
    "## 일일이 graph 의 font size 를 지정할 필요 없이 seaborn 의 font_scale 을 사용하면 편하다.\n",
    "# plt.style.use('seaborn')\n",
    "# sns.set(font_scale=1.3) \n",
    "\n",
    "\n",
    "import missingno as msno\n",
    "%matplotlib inline"
   ]
  },
  {
   "cell_type": "code",
   "execution_count": 6,
   "metadata": {},
   "outputs": [],
   "source": [
    "## 1. 데이터 읽어오기\n",
    "\n",
    "class Data_Preprocess:   \n",
    "    \"\"\"\n",
    "    1. config파일에서 읽어오기\n",
    "    2. 읽어온 DB 데이터를 이용하여 온도 데이터 가져오기\n",
    "    \"\"\"\n",
    "    def __init__(self):\n",
    "        config = configparser.ConfigParser()\n",
    "        config.read('AOP_config.cfg')\n",
    "        \n",
    "        self.server = config[\"server address\"][\"address\"]\n",
    "        self.ID = config[\"username\"][\"ID\"]\n",
    "        self.password = config[\"password\"][\"PW\"]\n",
    "        self.list_DBs = config[\"database\"][\"name\"].split(',')\n",
    "        self.export_DB = config[\"export database\"][\"name\"]\n",
    "\n",
    "    # 함수2(self):\n",
    "\n",
    "    # 함수3"
   ]
  }
 ],
 "metadata": {
  "kernelspec": {
   "display_name": "Python 3",
   "language": "python",
   "name": "python3"
  },
  "language_info": {
   "codemirror_mode": {
    "name": "ipython",
    "version": 3
   },
   "file_extension": ".py",
   "mimetype": "text/x-python",
   "name": "python",
   "nbconvert_exporter": "python",
   "pygments_lexer": "ipython3",
   "version": "3.10.10"
  }
 },
 "nbformat": 4,
 "nbformat_minor": 2
}
