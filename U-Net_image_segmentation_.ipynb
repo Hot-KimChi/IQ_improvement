{
 "cells": [
  {
   "cell_type": "code",
   "execution_count": 1,
   "metadata": {},
   "outputs": [
    {
     "name": "stdout",
     "output_type": "stream",
     "text": [
      "^C\n"
     ]
    },
    {
     "name": "stderr",
     "output_type": "stream",
     "text": [
      "  % Total    % Received % Xferd  Average Speed   Time    Time     Time  Current\n",
      "                                 Dload  Upload   Total   Spent    Left  Speed\n",
      "\n",
      "  0     0    0     0    0     0      0      0 --:--:-- --:--:-- --:--:--     0\n",
      "  0     0    0     0    0     0      0      0 --:--:-- --:--:-- --:--:--     0\n",
      "  0     0    0     0    0     0      0      0 --:--:--  0:00:01 --:--:--     0\n",
      "  1 18.2M    1  223k    0     0   103k      0  0:03:01  0:00:02  0:02:59  103k\n",
      "  4 18.2M    4  831k    0     0   253k      0  0:01:13  0:00:03  0:01:10  254k\n",
      "  8 18.2M    8 1599k    0     0   383k      0  0:00:48  0:00:04  0:00:44  384k\n",
      " 15 18.2M   15 2959k    0     0   579k      0  0:00:32  0:00:05  0:00:27  610k\n",
      " 23 18.2M   23 4383k    0     0   709k      0  0:00:26  0:00:06  0:00:20  893k\n",
      " 33 18.2M   33 6255k    0     0   880k      0  0:00:21  0:00:07  0:00:14 1220k\n",
      " 44 18.2M   44 8239k    0     0   998k      0  0:00:18  0:00:08  0:00:10 1488k\n",
      " 56 18.2M   56 10.2M    0     0  1150k      0  0:00:16  0:00:09  0:00:07 1794k\n",
      " 71 18.2M   71 13.1M    0     0  1332k      0  0:00:14  0:00:10  0:00:04 2102k\n",
      " 89 18.2M   89 16.4M    0     0  1506k      0  0:00:12  0:00:11  0:00:01 2493k\n",
      "100 18.2M  100 18.2M    0     0  1608k      0  0:00:11  0:00:11 --:--:-- 2752k\n",
      "images/scottish_terrier_50.jpg: truncated gzip input\n",
      "tar: Error exit delayed from previous errors.\n"
     ]
    },
    {
     "name": "stdout",
     "output_type": "stream",
     "text": [
      "^C\n"
     ]
    }
   ],
   "source": [
    "!!wget https://www.robots.ox.ac.uk/~vgg/data/pets/data/images.tar.gz\n",
    "!!wget https://www.robots.ox.ac.uk/~vgg/data/pets/data/annotations.tar.gz\n",
    "!\n",
    "!curl -O https://thor.robots.ox.ac.uk/datasets/pets/images.tar.gz\n",
    "!curl -O https://thor.robots.ox.ac.uk/datasets/pets/annotations.tar.gz\n",
    "!\n",
    "!tar -xf images.tar.gz\n",
    "!tar -xf annotations.tar.gz"
   ]
  },
  {
   "cell_type": "code",
   "execution_count": null,
   "metadata": {},
   "outputs": [],
   "source": [
    "import os\n",
    "\n",
    "input_dir = \"images/\"\n",
    "target_dir = \"annotations/trimaps/\"\n",
    "img_size = (160, 160)\n",
    "num_classes = 3\n",
    "batch_size = 32\n",
    "\n",
    "input_img_paths = sorted(\n",
    "    [\n",
    "        os.path.join(input_dir, fname)\n",
    "        for fname in os.listdir(input_dir)\n",
    "        if fname.endswith(\".jpg\")\n",
    "    ]\n",
    ")\n",
    "target_img_paths = sorted(\n",
    "    [\n",
    "        os.path.join(target_dir, fname)\n",
    "        for fname in os.listdir(target_dir)\n",
    "        if fname.endswith(\".png\") and not fname.startswith(\".\")\n",
    "    ]\n",
    ")\n",
    "\n",
    "print(\"Number of samples:\", len(input_img_paths))\n",
    "\n",
    "for input_path, target_path in zip(input_img_paths[:10], target_img_paths[:10]):\n",
    "    print(input_path, \"|\", target_path)"
   ]
  },
  {
   "cell_type": "code",
   "execution_count": null,
   "metadata": {},
   "outputs": [],
   "source": [
    "from IPython.display import Image, display\n",
    "from keras.utils import load_img\n",
    "from PIL import ImageOps\n",
    "\n",
    "# Display input image #7\n",
    "display(Image(filename=input_img_paths[9]))\n",
    "\n",
    "# Display auto-contrast version of corresponding target (per-pixel categories)\n",
    "img = ImageOps.autocontrast(load_img(target_img_paths[9]))\n",
    "display(img)"
   ]
  }
 ],
 "metadata": {
  "kernelspec": {
   "display_name": "Python 3",
   "language": "python",
   "name": "python3"
  },
  "language_info": {
   "codemirror_mode": {
    "name": "ipython",
    "version": 3
   },
   "file_extension": ".py",
   "mimetype": "text/x-python",
   "name": "python",
   "nbconvert_exporter": "python",
   "pygments_lexer": "ipython3",
   "version": "3.10.10"
  }
 },
 "nbformat": 4,
 "nbformat_minor": 2
}
